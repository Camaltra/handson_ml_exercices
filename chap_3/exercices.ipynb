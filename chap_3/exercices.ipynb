{
 "cells": [
  {
   "cell_type": "markdown",
   "source": [
    "# Import section"
   ],
   "metadata": {
    "collapsed": false
   }
  },
  {
   "cell_type": "code",
   "execution_count": 1,
   "outputs": [],
   "source": [
    "import pandas as pd\n",
    "from sklearn.datasets import fetch_openml\n",
    "import matplotlib.pyplot as plt\n",
    "import numpy as np\n",
    "from typing import Tuple\n",
    "%matplotlib inline\n",
    "\n",
    "# Sklearn Immport\n",
    "from sklearn.neighbors import KNeighborsClassifier\n",
    "from sklearn.model_selection import cross_val_score\n",
    "from sklearn.preprocessing import StandardScaler\n",
    "from sklearn.pipeline import Pipeline\n",
    "from sklearn.model_selection import GridSearchCV\n",
    "\n",
    "from scipy.ndimage import shift"
   ],
   "metadata": {
    "collapsed": false
   }
  },
  {
   "cell_type": "code",
   "execution_count": 2,
   "outputs": [],
   "source": [
    "import os\n",
    "N_CPU = os.cpu_count()"
   ],
   "metadata": {
    "collapsed": false
   }
  },
  {
   "cell_type": "markdown",
   "source": [
    "# Fetch data, check it and split it"
   ],
   "metadata": {
    "collapsed": false
   }
  },
  {
   "cell_type": "code",
   "execution_count": 3,
   "outputs": [],
   "source": [
    "mnist = fetch_openml(\"mnist_784\", as_frame=False, parser='auto')\n",
    "\n",
    "X, y = mnist.data, mnist.target\n",
    "X_train, X_test, y_train, y_test = X[:60_000], X[60_000:], y[:60_000], y[60_000:]"
   ],
   "metadata": {
    "collapsed": false
   }
  },
  {
   "cell_type": "code",
   "execution_count": 4,
   "outputs": [
    {
     "data": {
      "text/plain": "<Figure size 640x480 with 1 Axes>",
      "image/png": "[encoded data removed]"
     },
     "metadata": {},
     "output_type": "display_data"
    }
   ],
   "source": [
    "def plot_digit(image_data: np.ndarray) -> None:\n",
    "    image_data_formatted = image_data.reshape(28, 28)\n",
    "    plt.imshow(image_data_formatted, cmap=\"binary\")\n",
    "    plt.axis(\"off\")\n",
    "\n",
    "plot_digit(X_train[0])\n",
    "plt.show();"
   ],
   "metadata": {
    "collapsed": false
   }
  },
  {
   "cell_type": "markdown",
   "source": [
    "# Exercice 1\n",
    "Create a model with 97% or accuracy. Hint given: Use the KNeighborsClassifier"
   ],
   "metadata": {
    "collapsed": false
   }
  },
  {
   "cell_type": "code",
   "execution_count": 5,
   "outputs": [
    {
     "name": "stderr",
     "output_type": "stream",
     "text": [
      "[Parallel(n_jobs=11)]: Using backend LokyBackend with 11 concurrent workers.\n",
      "[Parallel(n_jobs=11)]: Done   2 out of   5 | elapsed:   26.7s remaining:   40.0s\n",
      "[Parallel(n_jobs=11)]: Done   5 out of   5 | elapsed:   27.1s remaining:    0.0s\n",
      "[Parallel(n_jobs=11)]: Done   5 out of   5 | elapsed:   27.1s finished\n"
     ]
    },
    {
     "data": {
      "text/plain": "count    5.000000\nmean     0.969283\nstd      0.000763\nmin      0.968167\n25%      0.969000\n50%      0.969333\n75%      0.969750\nmax      0.970167\ndtype: float64"
     },
     "execution_count": 5,
     "metadata": {},
     "output_type": "execute_result"
    }
   ],
   "source": [
    "# First thing first, try the model directly on the data without tune it\n",
    "knn_clf = KNeighborsClassifier()\n",
    "knn_scores = cross_val_score(knn_clf, X_train, y_train, cv=5, scoring=\"accuracy\", n_jobs=N_CPU-1, verbose=2)\n",
    "pd.Series(knn_scores).describe()"
   ],
   "metadata": {
    "collapsed": false
   }
  },
  {
   "cell_type": "markdown",
   "source": [
    "Seems pretty good without tune-hyperparameters, but before get to this point, let standartize the data"
   ],
   "metadata": {
    "collapsed": false
   }
  },
  {
   "cell_type": "code",
   "execution_count": 6,
   "outputs": [
    {
     "name": "stderr",
     "output_type": "stream",
     "text": [
      "[Parallel(n_jobs=11)]: Using backend LokyBackend with 11 concurrent workers.\n",
      "[Parallel(n_jobs=11)]: Done   2 out of   5 | elapsed:   21.0s remaining:   31.6s\n",
      "[Parallel(n_jobs=11)]: Done   5 out of   5 | elapsed:   25.1s remaining:    0.0s\n",
      "[Parallel(n_jobs=11)]: Done   5 out of   5 | elapsed:   25.1s finished\n"
     ]
    },
    {
     "data": {
      "text/plain": "count    5.000000\nmean     0.941933\nstd      0.003516\nmin      0.936583\n25%      0.941083\n50%      0.942333\n75%      0.943583\nmax      0.946083\ndtype: float64"
     },
     "execution_count": 6,
     "metadata": {},
     "output_type": "execute_result"
    }
   ],
   "source": [
    "knn_pipelines = Pipeline([\n",
    "    (\"preprocessing\", StandardScaler()),\n",
    "    (\"knn\", KNeighborsClassifier())\n",
    "])\n",
    "\n",
    "knn_standartize_score = cross_val_score(knn_pipelines, X_train, y_train, cv=5, scoring=\"accuracy\", n_jobs=N_CPU-1, verbose=2)\n",
    "pd.Series(knn_standartize_score).describe()"
   ],
   "metadata": {
    "collapsed": false
   }
  },
  {
   "cell_type": "markdown",
   "source": [
    "Let try on these 2 models, the one with the standartize data and the normal one\n",
    "\n",
    "Remember of the baseline 0.969"
   ],
   "metadata": {
    "collapsed": false
   }
  },
  {
   "cell_type": "code",
   "execution_count": 7,
   "outputs": [],
   "source": [
    "generic_param_grid = [{\n",
    "    \"weights\": [\"uniform\", \"distance\"],\n",
    "    \"n_neighbors\": [1, 2, 3, 4, 5, 6, 7, 9, 11, 13, 15]\n",
    "}]\n",
    "\n",
    "standartize_param_grid = [{\n",
    "    \"knn__weights\": [\"uniform\", \"distance\"],\n",
    "    \"knn__n_neighbors\": [1, 2, 3, 4, 5, 6, 7, 9, 11, 13, 15]\n",
    "}]"
   ],
   "metadata": {
    "collapsed": false
   }
  },
  {
   "cell_type": "code",
   "execution_count": 8,
   "outputs": [
    {
     "name": "stdout",
     "output_type": "stream",
     "text": [
      "Fitting 5 folds for each of 22 candidates, totalling 110 fits\n",
      "[CV] END .................................................... total time=  26.2s\n",
      "[CV] END .................................................... total time=  20.8s\n"
     ]
    },
    {
     "name": "stderr",
     "output_type": "stream",
     "text": [
      "/Users/mickaelboillaud/DataspellProjects/hand_on_ml/venv/lib/python3.11/site-packages/joblib/externals/loky/process_executor.py:702: UserWarning: A worker stopped while some jobs were given to the executor. This can be caused by a too short worker timeout or by a memory leak.\n",
      "  warnings.warn(\n"
     ]
    },
    {
     "name": "stdout",
     "output_type": "stream",
     "text": [
      "[CV] END .................................................... total time=  25.9s\n",
      "[CV] END .................................................... total time=  20.9s\n",
      "[CV] END .................................................... total time=  26.1s\n",
      "[CV] END .................................................... total time=  20.6s\n",
      "{'n_neighbors': 4, 'weights': 'distance'} 0.9635666666666667\n",
      "Fitting 5 folds for each of 22 candidates, totalling 110 fits\n",
      "[CV] END .................................................... total time=  26.0s\n"
     ]
    },
    {
     "name": "stderr",
     "output_type": "stream",
     "text": [
      "/Users/mickaelboillaud/DataspellProjects/hand_on_ml/venv/lib/python3.11/site-packages/joblib/externals/loky/process_executor.py:702: UserWarning: A worker stopped while some jobs were given to the executor. This can be caused by a too short worker timeout or by a memory leak.\n",
      "  warnings.warn(\n"
     ]
    },
    {
     "name": "stdout",
     "output_type": "stream",
     "text": [
      "[CV] END .................................................... total time=  25.8s\n",
      "{'knn__n_neighbors': 4, 'knn__weights': 'distance'} 0.9352333333333332\n"
     ]
    }
   ],
   "source": [
    "model_searched_result = []\n",
    "for model, param_grid in [(KNeighborsClassifier(), generic_param_grid), (knn_pipelines, standartize_param_grid)]:\n",
    "    searched_model = GridSearchCV(model, param_grid, cv=5, verbose=1, n_jobs=N_CPU-1)\n",
    "    searched_model.fit(X_train[:30000], y_train[:30000])\n",
    "    model_searched_result.append(searched_model)\n",
    "    print(searched_model.best_params_, searched_model.best_score_)"
   ],
   "metadata": {
    "collapsed": false
   }
  },
  {
   "cell_type": "markdown",
   "source": [
    "Let see which model perform the best on the whole dataset"
   ],
   "metadata": {
    "collapsed": false
   }
  },
  {
   "cell_type": "code",
   "execution_count": 9,
   "outputs": [],
   "source": [
    "generic_best_params = model_searched_result[0].best_params_\n",
    "standartize_best_params = model_searched_result[1].best_params_"
   ],
   "metadata": {
    "collapsed": false
   }
  },
  {
   "cell_type": "code",
   "execution_count": 10,
   "outputs": [
    {
     "name": "stderr",
     "output_type": "stream",
     "text": [
      "[Parallel(n_jobs=11)]: Using backend LokyBackend with 11 concurrent workers.\n"
     ]
    },
    {
     "name": "stdout",
     "output_type": "stream",
     "text": [
      "[CV] END .................................................... total time=  25.3s\n",
      "[CV] END .................................................... total time=  24.7s\n",
      "[CV] END .................................................... total time=  25.4s\n"
     ]
    },
    {
     "name": "stderr",
     "output_type": "stream",
     "text": [
      "[Parallel(n_jobs=11)]: Done   2 out of   5 | elapsed:   25.6s remaining:   38.4s\n"
     ]
    },
    {
     "name": "stdout",
     "output_type": "stream",
     "text": [
      "[CV] END .................................................... total time=  25.6s\n",
      "[CV] END .................................................... total time=  25.7s\n",
      "[CV] END .................................................... total time=  25.7s\n"
     ]
    },
    {
     "name": "stderr",
     "output_type": "stream",
     "text": [
      "[Parallel(n_jobs=11)]: Done   5 out of   5 | elapsed:   26.0s remaining:    0.0s\n",
      "[Parallel(n_jobs=11)]: Done   5 out of   5 | elapsed:   26.0s finished\n"
     ]
    },
    {
     "data": {
      "text/plain": "count    5.000000\nmean     0.971617\nstd      0.001208\nmin      0.969917\n25%      0.970917\n50%      0.972000\n75%      0.972250\nmax      0.973000\ndtype: float64"
     },
     "execution_count": 10,
     "metadata": {},
     "output_type": "execute_result"
    }
   ],
   "source": [
    "knn_clf = KNeighborsClassifier(**generic_best_params)\n",
    "knn_scores = cross_val_score(knn_clf, X_train, y_train, cv=5, scoring=\"accuracy\", n_jobs=N_CPU-1, verbose=2)\n",
    "pd.Series(knn_scores).describe()"
   ],
   "metadata": {
    "collapsed": false
   }
  },
  {
   "cell_type": "code",
   "execution_count": 11,
   "outputs": [
    {
     "name": "stderr",
     "output_type": "stream",
     "text": [
      "[Parallel(n_jobs=11)]: Using backend LokyBackend with 11 concurrent workers.\n",
      "/Users/mickaelboillaud/DataspellProjects/hand_on_ml/venv/lib/python3.11/site-packages/joblib/externals/loky/process_executor.py:702: UserWarning: A worker stopped while some jobs were given to the executor. This can be caused by a too short worker timeout or by a memory leak.\n",
      "  warnings.warn(\n"
     ]
    },
    {
     "name": "stdout",
     "output_type": "stream",
     "text": [
      "[CV] END .................................................... total time=  20.6s\n",
      "[CV] END .................................................... total time=  20.6s\n",
      "[CV] END .................................................... total time=  20.7s\n",
      "[CV] END .................................................... total time=  20.7s\n"
     ]
    },
    {
     "name": "stderr",
     "output_type": "stream",
     "text": [
      "[Parallel(n_jobs=11)]: Done   2 out of   5 | elapsed:   21.0s remaining:   31.5s\n"
     ]
    },
    {
     "name": "stdout",
     "output_type": "stream",
     "text": [
      "[CV] END .................................................... total time=  24.6s\n"
     ]
    },
    {
     "name": "stderr",
     "output_type": "stream",
     "text": [
      "[Parallel(n_jobs=11)]: Done   5 out of   5 | elapsed:   24.8s remaining:    0.0s\n",
      "[Parallel(n_jobs=11)]: Done   5 out of   5 | elapsed:   24.8s finished\n"
     ]
    },
    {
     "data": {
      "text/plain": "count    5.000000\nmean     0.946383\nstd      0.002690\nmin      0.942583\n25%      0.945667\n50%      0.946333\n75%      0.947333\nmax      0.950000\ndtype: float64"
     },
     "execution_count": 11,
     "metadata": {},
     "output_type": "execute_result"
    }
   ],
   "source": [
    "knn_pipelines = Pipeline([\n",
    "    (\"preprocessing\", StandardScaler()),\n",
    "    # Use the generic one as they are the same\n",
    "    (\"knn\", KNeighborsClassifier(**generic_best_params))\n",
    "])\n",
    "\n",
    "knn_standartize_score = cross_val_score(knn_pipelines, X_train, y_train, cv=5, scoring=\"accuracy\", n_jobs=N_CPU-1, verbose=2)\n",
    "pd.Series(knn_standartize_score).describe()"
   ],
   "metadata": {
    "collapsed": false
   }
  },
  {
   "cell_type": "markdown",
   "source": [
    "## Exercice 2\n",
    "Shift all image from one pixel up down left and right\n"
   ],
   "metadata": {
    "collapsed": false
   }
  },
  {
   "cell_type": "code",
   "execution_count": 12,
   "outputs": [],
   "source": [
    "DIRECTIONS = [(1, 0), (-1, 0), (0, 1), (0, -1)]\n",
    "\n",
    "def unison_shuffled_copies(data: np.ndarray, label: np.ndarray) -> Tuple[np.ndarray, np.ndarray]:\n",
    "    assert len(data) == len(label)\n",
    "    p = np.random.permutation(len(data))\n",
    "    return data[p], label[p]\n",
    "\n",
    "def expand_training_set(data: np.ndarray, label: np.ndarray) -> Tuple[np.ndarray, np.ndarray]:\n",
    "    data_augmented = []\n",
    "    label_augmented = []\n",
    "    for digit, label in zip(data, label):\n",
    "        data_augmented.append(digit)\n",
    "        label_augmented.append(label)\n",
    "        digit_img_format = digit.reshape(28, 28)\n",
    "        for direction in DIRECTIONS:\n",
    "            shifted_digit = shift(digit_img_format, direction)\n",
    "            data_augmented.append(shifted_digit.reshape(784,))\n",
    "            label_augmented.append(label)\n",
    "\n",
    "    return unison_shuffled_copies(np.array(data_augmented), np.array(label_augmented))\n",
    "\n",
    "X_train_augmented, y_train_augmented = expand_training_set(X_train, y_train)"
   ],
   "metadata": {
    "collapsed": false
   }
  },
  {
   "cell_type": "code",
   "execution_count": 13,
   "outputs": [
    {
     "name": "stdout",
     "output_type": "stream",
     "text": [
      "0.9763\n"
     ]
    }
   ],
   "source": [
    "knn_clf = KNeighborsClassifier(**generic_best_params)\n",
    "knn_clf.fit(X_train_augmented, y_train_augmented)\n",
    "knn_scores = knn_clf.score(X_test, y_test)\n",
    "print(knn_scores)"
   ],
   "metadata": {
    "collapsed": false
   }
  }
 ],
 "metadata": {
  "kernelspec": {
   "display_name": "Python 3",
   "language": "python",
   "name": "python3"
  },
  "language_info": {
   "codemirror_mode": {
    "name": "ipython",
    "version": 2
   },
   "file_extension": ".py",
   "mimetype": "text/x-python",
   "name": "python",
   "nbconvert_exporter": "python",
   "pygments_lexer": "ipython2",
   "version": "2.7.6"
  }
 },
 "nbformat": 4,
 "nbformat_minor": 0
}
