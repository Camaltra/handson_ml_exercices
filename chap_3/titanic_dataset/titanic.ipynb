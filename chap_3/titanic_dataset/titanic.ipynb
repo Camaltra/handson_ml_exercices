{
 "cells": [
  {
   "cell_type": "markdown",
   "source": [
    "# Import Section"
   ],
   "metadata": {
    "collapsed": false
   }
  },
  {
   "cell_type": "code",
   "execution_count": 210,
   "outputs": [],
   "source": [
    "import pandas as pd\n",
    "import numpy as np\n",
    "import matplotlib.pyplot as plt\n",
    "%matplotlib inline\n",
    "import os\n",
    "\n",
    "# Sklearn import\n",
    "from sklearn.model_selection import train_test_split\n",
    "from sklearn.preprocessing import OneHotEncoder\n",
    "from sklearn.impute import SimpleImputer\n",
    "from sklearn.pipeline import make_pipeline, Pipeline\n",
    "from sklearn.preprocessing import FunctionTransformer\n",
    "from sklearn.preprocessing import StandardScaler, OrdinalEncoder\n",
    "from sklearn.model_selection import GridSearchCV\n",
    "\n",
    "# Typing import\n",
    "from typing import Tuple"
   ],
   "metadata": {
    "collapsed": false
   }
  },
  {
   "cell_type": "markdown",
   "source": [
    "# Const declaration"
   ],
   "metadata": {
    "collapsed": false
   }
  },
  {
   "cell_type": "code",
   "execution_count": 226,
   "outputs": [],
   "source": [
    "TITANIC_DATASET_PATH = \"./titanic/train.csv\"\n",
    "TITANIC_DATASET_TEST_PATH = \"./titanic/test.csv\"\n",
    "SUBMISSION_PATH = \"./titanic/submission.csv\"\n",
    "N_JOB = os.cpu_count() - 1"
   ],
   "metadata": {
    "collapsed": false
   }
  },
  {
   "cell_type": "markdown",
   "source": [
    "# Open the data and split it\n",
    "As there are not the same amount of female and male, I will stratified the train and test set base on this feature"
   ],
   "metadata": {
    "collapsed": false
   }
  },
  {
   "cell_type": "markdown",
   "source": [],
   "metadata": {
    "collapsed": false
   }
  },
  {
   "cell_type": "code",
   "execution_count": 181,
   "outputs": [
    {
     "name": "stdout",
     "output_type": "stream",
     "text": [
      "<class 'pandas.core.frame.DataFrame'>\n",
      "RangeIndex: 891 entries, 0 to 890\n",
      "Data columns (total 12 columns):\n",
      " #   Column       Non-Null Count  Dtype  \n",
      "---  ------       --------------  -----  \n",
      " 0   PassengerId  891 non-null    int64  \n",
      " 1   Survived     891 non-null    int64  \n",
      " 2   Pclass       891 non-null    int64  \n",
      " 3   Name         891 non-null    object \n",
      " 4   Sex          891 non-null    object \n",
      " 5   Age          714 non-null    float64\n",
      " 6   SibSp        891 non-null    int64  \n",
      " 7   Parch        891 non-null    int64  \n",
      " 8   Ticket       891 non-null    object \n",
      " 9   Fare         891 non-null    float64\n",
      " 10  Cabin        204 non-null    object \n",
      " 11  Embarked     889 non-null    object \n",
      "dtypes: float64(2), int64(5), object(5)\n",
      "memory usage: 83.7+ KB\n"
     ]
    }
   ],
   "source": [
    "titanic_df = pd.read_csv(TITANIC_DATASET_PATH)\n",
    "titanic_df.info()"
   ],
   "metadata": {
    "collapsed": false
   }
  },
  {
   "cell_type": "code",
   "execution_count": 182,
   "outputs": [],
   "source": [
    "X_train = titanic_df.drop(\"Survived\", axis=1)\n",
    "X_train.set_index(\"PassengerId\")\n",
    "y_train = titanic_df[\"Survived\"].copy()"
   ],
   "metadata": {
    "collapsed": false
   }
  },
  {
   "cell_type": "markdown",
   "source": [
    "# Data exploration\n",
    "As we are already know, there are twice mens as women on the ship, but let's seek more pattern that could be useful\n",
    "\n",
    "### The signification of the data\n",
    "| DF Name  | Meaning                                    | Values                                            |\n",
    "|----------|--------------------------------------------|---------------------------------------------------|\n",
    "| survival | \tSurvival                                  | \t           0 = No, 1 = Yes                       |\n",
    "| pclass\t  | Ticket class                               | \t       1 = 1st, 2 = 2nd, 3 = 3rd                 |\n",
    "| sex\t     | Sex\t                                       | Male or female                                    |\n",
    "| Age\t     | Age in years                               | --                                                |\n",
    "| sibsp\t   | # of siblings / spouses aboard the Titanic | --                                                |\n",
    "| parch\t   | # of parents / children aboard the Titanic | --                                                |\n",
    "| ticket\t  | Ticket number                              | --                                                |\n",
    "| fare\t    | Passenger fare                             | --                                                |\n",
    "| cabin\t   | Cabin number                               | --                                                |\n",
    "| embarked | Port of Embarkation                        | \t  C = Cherbourg, Q = Queenstown, S = Southampton |\n",
    "\n",
    "Quite a lot of interesting colums, it could be useful to see if there is any hard correlation between\n",
    "- Sex and Target\n",
    "- Age and Target\n",
    "- Fare and Target\n",
    "- Maybe Embarked and Target (The cabin may depend on the embarcation port)\n",
    "- If there is a lot of family member on the ship\n",
    "\n",
    "However, Cabin seems laking of data and can be hard to fill, Age also, but can be treated through a pipeline and choses between mean or median. Ticket name could also get a correlation with the cabin number, but not seems to useful as it's own to predict the target value"
   ],
   "metadata": {
    "collapsed": false
   }
  },
  {
   "cell_type": "code",
   "execution_count": 153,
   "outputs": [
    {
     "name": "stdout",
     "output_type": "stream",
     "text": [
      "<class 'pandas.core.frame.DataFrame'>\n",
      "RangeIndex: 891 entries, 0 to 890\n",
      "Data columns (total 11 columns):\n",
      " #   Column       Non-Null Count  Dtype  \n",
      "---  ------       --------------  -----  \n",
      " 0   PassengerId  891 non-null    int64  \n",
      " 1   Pclass       891 non-null    int64  \n",
      " 2   Name         891 non-null    object \n",
      " 3   Sex          891 non-null    object \n",
      " 4   Age          714 non-null    float64\n",
      " 5   SibSp        891 non-null    int64  \n",
      " 6   Parch        891 non-null    int64  \n",
      " 7   Ticket       891 non-null    object \n",
      " 8   Fare         891 non-null    float64\n",
      " 9   Cabin        204 non-null    object \n",
      " 10  Embarked     889 non-null    object \n",
      "dtypes: float64(2), int64(4), object(5)\n",
      "memory usage: 76.7+ KB\n"
     ]
    }
   ],
   "source": [
    "X_train.info()"
   ],
   "metadata": {
    "collapsed": false
   }
  },
  {
   "cell_type": "code",
   "execution_count": 154,
   "outputs": [
    {
     "data": {
      "text/plain": "       PassengerId  Pclass    Age  SibSp  Parch   Fare\ncount        891.0   891.0  714.0  891.0  891.0  891.0\nmean         446.0     2.0   30.0    1.0    0.0   32.0\nstd          257.0     1.0   15.0    1.0    1.0   50.0\nmin            1.0     1.0    0.0    0.0    0.0    0.0\n25%          224.0     2.0   20.0    0.0    0.0    8.0\n50%          446.0     3.0   28.0    0.0    0.0   14.0\n75%          668.0     3.0   38.0    1.0    0.0   31.0\nmax          891.0     3.0   80.0    8.0    6.0  512.0",
      "text/html": "<div>\n<style scoped>\n    .dataframe tbody tr th:only-of-type {\n        vertical-align: middle;\n    }\n\n    .dataframe tbody tr th {\n        vertical-align: top;\n    }\n\n    .dataframe thead th {\n        text-align: right;\n    }\n</style>\n<table border=\"1\" class=\"dataframe\">\n  <thead>\n    <tr style=\"text-align: right;\">\n      <th></th>\n      <th>PassengerId</th>\n      <th>Pclass</th>\n      <th>Age</th>\n      <th>SibSp</th>\n      <th>Parch</th>\n      <th>Fare</th>\n    </tr>\n  </thead>\n  <tbody>\n    <tr>\n      <th>count</th>\n      <td>891.0</td>\n      <td>891.0</td>\n      <td>714.0</td>\n      <td>891.0</td>\n      <td>891.0</td>\n      <td>891.0</td>\n    </tr>\n    <tr>\n      <th>mean</th>\n      <td>446.0</td>\n      <td>2.0</td>\n      <td>30.0</td>\n      <td>1.0</td>\n      <td>0.0</td>\n      <td>32.0</td>\n    </tr>\n    <tr>\n      <th>std</th>\n      <td>257.0</td>\n      <td>1.0</td>\n      <td>15.0</td>\n      <td>1.0</td>\n      <td>1.0</td>\n      <td>50.0</td>\n    </tr>\n    <tr>\n      <th>min</th>\n      <td>1.0</td>\n      <td>1.0</td>\n      <td>0.0</td>\n      <td>0.0</td>\n      <td>0.0</td>\n      <td>0.0</td>\n    </tr>\n    <tr>\n      <th>25%</th>\n      <td>224.0</td>\n      <td>2.0</td>\n      <td>20.0</td>\n      <td>0.0</td>\n      <td>0.0</td>\n      <td>8.0</td>\n    </tr>\n    <tr>\n      <th>50%</th>\n      <td>446.0</td>\n      <td>3.0</td>\n      <td>28.0</td>\n      <td>0.0</td>\n      <td>0.0</td>\n      <td>14.0</td>\n    </tr>\n    <tr>\n      <th>75%</th>\n      <td>668.0</td>\n      <td>3.0</td>\n      <td>38.0</td>\n      <td>1.0</td>\n      <td>0.0</td>\n      <td>31.0</td>\n    </tr>\n    <tr>\n      <th>max</th>\n      <td>891.0</td>\n      <td>3.0</td>\n      <td>80.0</td>\n      <td>8.0</td>\n      <td>6.0</td>\n      <td>512.0</td>\n    </tr>\n  </tbody>\n</table>\n</div>"
     },
     "execution_count": 154,
     "metadata": {},
     "output_type": "execute_result"
    }
   ],
   "source": [
    "X_train.describe().round()"
   ],
   "metadata": {
    "collapsed": false
   }
  },
  {
   "cell_type": "code",
   "execution_count": 155,
   "outputs": [
    {
     "data": {
      "text/plain": "347082      7\nCA. 2343    7\n1601        7\n3101295     6\nCA 2144     6\n           ..\n9234        1\n19988       1\n2693        1\nPC 17612    1\n370376      1\nName: Ticket, Length: 681, dtype: int64"
     },
     "execution_count": 155,
     "metadata": {},
     "output_type": "execute_result"
    }
   ],
   "source": [
    "X_train[\"Ticket\"].value_counts()"
   ],
   "metadata": {
    "collapsed": false
   }
  },
  {
   "cell_type": "code",
   "execution_count": 156,
   "outputs": [
    {
     "data": {
      "text/plain": "array(['A/5 21171', 'PC 17599', 'STON/O2. 3101282', '113803', '373450',\n       '330877', '17463', '349909', '347742', '237736', 'PP 9549',\n       '113783', 'A/5. 2151', '347082', '350406', '248706', '382652',\n       '244373', '345763', '2649', '239865', '248698', '330923', '113788',\n       '347077', '2631', '19950', '330959', '349216', 'PC 17601',\n       'PC 17569', '335677', 'C.A. 24579', 'PC 17604', '113789', '2677',\n       'A./5. 2152', '345764', '2651', '7546', '11668', '349253',\n       'SC/Paris 2123', '330958', 'S.C./A.4. 23567', '370371', '14311',\n       '2662', '349237', '3101295', 'A/4. 39886', 'PC 17572', '2926',\n       '113509', '19947', 'C.A. 31026', '2697', 'C.A. 34651', 'CA 2144',\n       '2669', '113572', '36973', '347088', 'PC 17605', '2661',\n       'C.A. 29395', 'S.P. 3464', '3101281', '315151', 'C.A. 33111',\n       'S.O.C. 14879', '2680', '1601', '348123', '349208', '374746',\n       '248738', '364516', '345767', '345779', '330932', '113059',\n       'SO/C 14885', '3101278', 'W./C. 6608', 'SOTON/OQ 392086', '343275',\n       '343276', '347466', 'W.E.P. 5734', 'C.A. 2315', '364500', '374910',\n       'PC 17754', 'PC 17759', '231919', '244367', '349245', '349215',\n       '35281', '7540', '3101276', '349207', '343120', '312991', '349249',\n       '371110', '110465', '2665', '324669', '4136', '2627',\n       'STON/O 2. 3101294', '370369', 'PC 17558', 'A4. 54510', '27267',\n       '370372', 'C 17369', '2668', '347061', '349241',\n       'SOTON/O.Q. 3101307', 'A/5. 3337', '228414', 'C.A. 29178',\n       'SC/PARIS 2133', '11752', '7534', 'PC 17593', '2678', '347081',\n       'STON/O2. 3101279', '365222', '231945', 'C.A. 33112', '350043',\n       '230080', '244310', 'S.O.P. 1166', '113776', 'A.5. 11206',\n       'A/5. 851', 'Fa 265302', 'PC 17597', '35851', 'SOTON/OQ 392090',\n       '315037', 'CA. 2343', '371362', 'C.A. 33595', '347068', '315093',\n       '363291', '113505', 'PC 17318', '111240', 'STON/O 2. 3101280',\n       '17764', '350404', '4133', 'PC 17595', '250653', 'LINE',\n       'SC/PARIS 2131', '230136', '315153', '113767', '370365', '111428',\n       '364849', '349247', '234604', '28424', '350046', 'PC 17610',\n       '368703', '4579', '370370', '248747', '345770', '3101264', '2628',\n       'A/5 3540', '347054', '2699', '367231', '112277',\n       'SOTON/O.Q. 3101311', 'F.C.C. 13528', 'A/5 21174', '250646',\n       '367229', '35273', 'STON/O2. 3101283', '243847', '11813',\n       'W/C 14208', 'SOTON/OQ 392089', '220367', '21440', '349234',\n       '19943', 'PP 4348', 'SW/PP 751', 'A/5 21173', '236171', '347067',\n       '237442', 'C.A. 29566', 'W./C. 6609', '26707', 'C.A. 31921',\n       '28665', 'SCO/W 1585', '367230', 'W./C. 14263',\n       'STON/O 2. 3101275', '2694', '19928', '347071', '250649', '11751',\n       '244252', '362316', '113514', 'A/5. 3336', '370129', '2650',\n       'PC 17585', '110152', 'PC 17755', '230433', '384461', '110413',\n       '112059', '382649', 'C.A. 17248', '347083', 'PC 17582', 'PC 17760',\n       '113798', '250644', 'PC 17596', '370375', '13502', '347073',\n       '239853', 'C.A. 2673', '336439', '347464', '345778', 'A/5. 10482',\n       '113056', '349239', '345774', '349206', '237798', '370373',\n       '19877', '11967', 'SC/Paris 2163', '349236', '349233', 'PC 17612',\n       '2693', '113781', '19988', '9234', '367226', '226593', 'A/5 2466',\n       '17421', 'PC 17758', 'P/PP 3381', 'PC 17485', '11767', 'PC 17608',\n       '250651', '349243', 'F.C.C. 13529', '347470', '29011', '36928',\n       '16966', 'A/5 21172', '349219', '234818', '345364', '28551',\n       '111361', '113043', 'PC 17611', '349225', '7598', '113784',\n       '248740', '244361', '229236', '248733', '31418', '386525',\n       'C.A. 37671', '315088', '7267', '113510', '2695', '2647', '345783',\n       '237671', '330931', '330980', 'SC/PARIS 2167', '2691',\n       'SOTON/O.Q. 3101310', 'C 7076', '110813', '2626', '14313',\n       'PC 17477', '11765', '3101267', '323951', 'C 7077', '113503',\n       '2648', '347069', 'PC 17757', '2653', 'STON/O 2. 3101293',\n       '349227', '27849', '367655', 'SC 1748', '113760', '350034',\n       '3101277', '350052', '350407', '28403', '244278', '240929',\n       'STON/O 2. 3101289', '341826', '4137', '315096', '28664', '347064',\n       '29106', '312992', '349222', '394140', 'STON/O 2. 3101269',\n       '343095', '28220', '250652', '28228', '345773', '349254',\n       'A/5. 13032', '315082', '347080', 'A/4. 34244', '2003', '250655',\n       '364851', 'SOTON/O.Q. 392078', '110564', '376564', 'SC/AH 3085',\n       'STON/O 2. 3101274', '13507', 'C.A. 18723', '345769', '347076',\n       '230434', '65306', '33638', '113794', '2666', '113786', '65303',\n       '113051', '17453', 'A/5 2817', '349240', '13509', '17464',\n       'F.C.C. 13531', '371060', '19952', '364506', '111320', '234360',\n       'A/S 2816', 'SOTON/O.Q. 3101306', '113792', '36209', '323592',\n       '315089', 'SC/AH Basle 541', '7553', '31027', '3460', '350060',\n       '3101298', '239854', 'A/5 3594', '4134', '11771', 'A.5. 18509',\n       '65304', 'SOTON/OQ 3101317', '113787', 'PC 17609', 'A/4 45380',\n       '36947', 'C.A. 6212', '350035', '315086', '364846', '330909',\n       '4135', '26360', '111427', 'C 4001', '382651', 'SOTON/OQ 3101316',\n       'PC 17473', 'PC 17603', '349209', '36967', 'C.A. 34260', '226875',\n       '349242', '12749', '349252', '2624', '2700', '367232',\n       'W./C. 14258', 'PC 17483', '3101296', '29104', '2641', '2690',\n       '315084', '113050', 'PC 17761', '364498', '13568', 'WE/P 5735',\n       '2908', '693', 'SC/PARIS 2146', '244358', '330979', '2620',\n       '347085', '113807', '11755', '345572', '372622', '349251',\n       '218629', 'SOTON/OQ 392082', 'SOTON/O.Q. 392087', 'A/4 48871',\n       '349205', '2686', '350417', 'S.W./PP 752', '11769', 'PC 17474',\n       '14312', 'A/4. 20589', '358585', '243880', '2689',\n       'STON/O 2. 3101286', '237789', '13049', '3411', '237565', '13567',\n       '14973', 'A./5. 3235', 'STON/O 2. 3101273', 'A/5 3902', '364848',\n       'SC/AH 29037', '248727', '2664', '349214', '113796', '364511',\n       '111426', '349910', '349246', '113804', 'SOTON/O.Q. 3101305',\n       '370377', '364512', '220845', '31028', '2659', '11753', '350029',\n       '54636', '36963', '219533', '349224', '334912', '27042', '347743',\n       '13214', '112052', '237668', 'STON/O 2. 3101292', '350050',\n       '349231', '13213', 'S.O./P.P. 751', 'CA. 2314', '349221', '8475',\n       '330919', '365226', '349223', '29751', '2623', '5727', '349210',\n       'STON/O 2. 3101285', '234686', '312993', 'A/5 3536', '19996',\n       '29750', 'F.C. 12750', 'C.A. 24580', '244270', '239856', '349912',\n       '342826', '4138', '330935', '6563', '349228', '350036', '24160',\n       '17474', '349256', '2672', '113800', '248731', '363592', '35852',\n       '348121', 'PC 17475', '36864', '350025', '223596', 'PC 17476',\n       'PC 17482', '113028', '7545', '250647', '348124', '34218', '36568',\n       '347062', '350048', '12233', '250643', '113806', '315094', '36866',\n       '236853', 'STON/O2. 3101271', '239855', '28425', '233639',\n       '349201', '349218', '16988', '376566', 'STON/O 2. 3101288',\n       '250648', '113773', '335097', '29103', '392096', '345780',\n       '349204', '350042', '29108', '363294', 'SOTON/O2 3101272', '2663',\n       '347074', '112379', '364850', '8471', '345781', '350047',\n       'S.O./P.P. 3', '2674', '29105', '347078', '383121', '36865',\n       '2687', '113501', 'W./C. 6607', 'SOTON/O.Q. 3101312', '374887',\n       '3101265', '12460', 'PC 17600', '349203', '28213', '17465',\n       '349244', '2685', '2625', '347089', '347063', '112050', '347087',\n       '248723', '3474', '28206', '364499', '112058', 'STON/O2. 3101290',\n       'S.C./PARIS 2079', 'C 7075', '315098', '19972', '368323', '367228',\n       '2671', '347468', '2223', 'PC 17756', '315097', '392092', '11774',\n       'SOTON/O2 3101287', '2683', '315090', 'C.A. 5547', '349213',\n       '347060', 'PC 17592', '392091', '113055', '2629', '350026',\n       '28134', '17466', '233866', '236852', 'SC/PARIS 2149', 'PC 17590',\n       '345777', '349248', '695', '345765', '2667', '349212', '349217',\n       '349257', '7552', 'C.A./SOTON 34068', 'SOTON/OQ 392076', '211536',\n       '112053', '111369', '370376'], dtype=object)"
     },
     "execution_count": 156,
     "metadata": {},
     "output_type": "execute_result"
    }
   ],
   "source": [
    "X_train[\"Ticket\"].unique()"
   ],
   "metadata": {
    "collapsed": false
   }
  },
  {
   "cell_type": "code",
   "execution_count": 157,
   "outputs": [
    {
     "data": {
      "text/plain": "B96 B98        4\nG6             4\nC23 C25 C27    4\nC22 C26        3\nF33            3\n              ..\nE34            1\nC7             1\nC54            1\nE36            1\nC148           1\nName: Cabin, Length: 147, dtype: int64"
     },
     "execution_count": 157,
     "metadata": {},
     "output_type": "execute_result"
    }
   ],
   "source": [
    "X_train[\"Cabin\"].value_counts()"
   ],
   "metadata": {
    "collapsed": false
   }
  },
  {
   "cell_type": "code",
   "execution_count": 158,
   "outputs": [
    {
     "data": {
      "text/plain": "array([nan, 'C85', 'C123', 'E46', 'G6', 'C103', 'D56', 'A6',\n       'C23 C25 C27', 'B78', 'D33', 'B30', 'C52', 'B28', 'C83', 'F33',\n       'F G73', 'E31', 'A5', 'D10 D12', 'D26', 'C110', 'B58 B60', 'E101',\n       'F E69', 'D47', 'B86', 'F2', 'C2', 'E33', 'B19', 'A7', 'C49', 'F4',\n       'A32', 'B4', 'B80', 'A31', 'D36', 'D15', 'C93', 'C78', 'D35',\n       'C87', 'B77', 'E67', 'B94', 'C125', 'C99', 'C118', 'D7', 'A19',\n       'B49', 'D', 'C22 C26', 'C106', 'C65', 'E36', 'C54',\n       'B57 B59 B63 B66', 'C7', 'E34', 'C32', 'B18', 'C124', 'C91', 'E40',\n       'T', 'C128', 'D37', 'B35', 'E50', 'C82', 'B96 B98', 'E10', 'E44',\n       'A34', 'C104', 'C111', 'C92', 'E38', 'D21', 'E12', 'E63', 'A14',\n       'B37', 'C30', 'D20', 'B79', 'E25', 'D46', 'B73', 'C95', 'B38',\n       'B39', 'B22', 'C86', 'C70', 'A16', 'C101', 'C68', 'A10', 'E68',\n       'B41', 'A20', 'D19', 'D50', 'D9', 'A23', 'B50', 'A26', 'D48',\n       'E58', 'C126', 'B71', 'B51 B53 B55', 'D49', 'B5', 'B20', 'F G63',\n       'C62 C64', 'E24', 'C90', 'C45', 'E8', 'B101', 'D45', 'C46', 'D30',\n       'E121', 'D11', 'E77', 'F38', 'B3', 'D6', 'B82 B84', 'D17', 'A36',\n       'B102', 'B69', 'E49', 'C47', 'D28', 'E17', 'A24', 'C50', 'B42',\n       'C148'], dtype=object)"
     },
     "execution_count": 158,
     "metadata": {},
     "output_type": "execute_result"
    }
   ],
   "source": [
    "X_train[\"Cabin\"].unique()"
   ],
   "metadata": {
    "collapsed": false
   }
  },
  {
   "cell_type": "code",
   "execution_count": 160,
   "outputs": [
    {
     "data": {
      "text/plain": "<Figure size 640x480 with 1 Axes>",
      "image/png": "[encoded data removed]"
     },
     "metadata": {},
     "output_type": "display_data"
    },
    {
     "data": {
      "text/plain": "<Figure size 640x480 with 1 Axes>",
      "image/png": "[encoded data removed]"
     },
     "metadata": {},
     "output_type": "display_data"
    },
    {
     "data": {
      "text/plain": "<Figure size 640x480 with 1 Axes>",
      "image/png": "[encoded data removed]"
     },
     "metadata": {},
     "output_type": "display_data"
    },
    {
     "data": {
      "text/plain": "<Figure size 640x480 with 1 Axes>",
      "image/png": "[encoded data removed]"
     },
     "metadata": {},
     "output_type": "display_data"
    }
   ],
   "source": [
    "num_cols = [\"Age\", \"Fare\", \"SibSp\", \"Parch\"]\n",
    "\n",
    "for num_col in num_cols:\n",
    "    plt.hist(X_train[num_col], edgecolor='black')\n",
    "\n",
    "    plt.xlabel(num_col)\n",
    "    plt.ylabel('Frequency')\n",
    "    plt.show()"
   ],
   "metadata": {
    "collapsed": false
   }
  },
  {
   "cell_type": "code",
   "execution_count": 161,
   "outputs": [
    {
     "data": {
      "text/plain": "3    491\n1    216\n2    184\nName: Pclass, dtype: int64"
     },
     "execution_count": 161,
     "metadata": {},
     "output_type": "execute_result"
    }
   ],
   "source": [
    "X_train[\"Pclass\"].value_counts()"
   ],
   "metadata": {
    "collapsed": false
   }
  },
  {
   "cell_type": "markdown",
   "source": [
    "# Creating Pipelines\n"
   ],
   "metadata": {
    "collapsed": false
   }
  },
  {
   "cell_type": "code",
   "execution_count": 183,
   "outputs": [],
   "source": [
    "def get_first_letter(X):\n",
    "    return np.array([[x[0][0] for x in X]]).reshape(-1, 1)\n",
    "\n",
    "def get_first_letter_outcolumns_name(function_transformer, feature_name_in):\n",
    "    return [\"initial_cabine\"]\n",
    "\n",
    "cabin_pipeline = make_pipeline(\n",
    "    SimpleImputer(strategy=\"constant\", fill_value=\"Z\"),\n",
    "    FunctionTransformer(get_first_letter, feature_names_out=get_first_letter_outcolumns_name),\n",
    "    OneHotEncoder(handle_unknown=\"ignore\")\n",
    ")"
   ],
   "metadata": {
    "collapsed": false
   }
  },
  {
   "cell_type": "code",
   "execution_count": 184,
   "outputs": [],
   "source": [
    "from sklearn.base import BaseEstimator, TransformerMixin\n",
    "from sklearn.utils.validation import check_is_fitted\n",
    "\n",
    "class AgeImputer(BaseEstimator, TransformerMixin):\n",
    "    def impute_age(self, row):\n",
    "        if pd.isnull(row[\"Age\"]):\n",
    "            return self.class_means_[row['Pclass']]\n",
    "        else:\n",
    "            return row[\"Age\"]\n",
    "\n",
    "    def fit(self, X: pd.DataFrame, y: pd.DataFrame | None=None):\n",
    "        self.feature_names_in_ = X.columns\n",
    "        self.n_features_in_ = X.shape[1]\n",
    "        self.class_means_ = X.groupby('Pclass')[\"Age\"].mean()\n",
    "        return self\n",
    "\n",
    "    def transform(self, X: pd.DataFrame, y: pd.DataFrame | None=None) -> np.ndarray:\n",
    "        check_is_fitted(self)\n",
    "        X[\"Age\"] = X.apply(self.impute_age, axis=1)\n",
    "        return X\n",
    "\n",
    "\n",
    "    def get_feature_names_out(self, input_features: list | None = None) -> list:\n",
    "        return self.feature_names_in_"
   ],
   "metadata": {
    "collapsed": false
   }
  },
  {
   "cell_type": "code",
   "execution_count": 185,
   "outputs": [],
   "source": [
    "age_pipeline = make_pipeline(\n",
    "    AgeImputer(),\n",
    "    StandardScaler()\n",
    ")\n",
    "default_cat_pipelines = make_pipeline(\n",
    "    OrdinalEncoder(),\n",
    "    SimpleImputer(strategy=\"most_frequent\"),\n",
    "    OneHotEncoder(handle_unknown=\"ignore\"),\n",
    ")\n",
    "default_num_pipelines = make_pipeline(\n",
    "    SimpleImputer(strategy=\"median\"),\n",
    "    StandardScaler()\n",
    ")"
   ],
   "metadata": {
    "collapsed": false
   }
  },
  {
   "cell_type": "code",
   "execution_count": 200,
   "outputs": [],
   "source": [
    "from sklearn.compose import ColumnTransformer\n",
    "\n",
    "preprocessing = ColumnTransformer([\n",
    "    (\"age\", age_pipeline, [\"Age\", \"Pclass\"]),\n",
    "    (\"cabin\", cabin_pipeline, [\"Cabin\"]),\n",
    "    (\"num\", default_num_pipelines, [\"Pclass\", \"SibSp\", \"Parch\", \"Fare\"]),\n",
    "    (\"cat\", default_cat_pipelines, [\"Sex\", \"Embarked\"]),\n",
    "])"
   ],
   "metadata": {
    "collapsed": false
   }
  },
  {
   "cell_type": "code",
   "execution_count": 202,
   "outputs": [],
   "source": [
    "class DropColumns(BaseEstimator, TransformerMixin):\n",
    "    def fit(self, X, y=None):\n",
    "        return self\n",
    "\n",
    "    def transform(self, X, y=None):\n",
    "        if not hasattr(X, \"column\"):\n",
    "            X = pd.DataFrame(X, columns=preprocessing.get_feature_names_out())\n",
    "        columns = X.columns\n",
    "        if \"Name\" in columns:\n",
    "            X.drop(\"Name\", axis=1, inplace=True)\n",
    "        if \"Ticket\" in columns:\n",
    "            X.drop(\"Ticket\", axis=1, inplace=True)\n",
    "        if \"age__Pclass\" in columns:\n",
    "            X.drop(\"age__Pclass\", axis=1, inplace=True)\n",
    "        return X\n"
   ],
   "metadata": {
    "collapsed": false
   }
  },
  {
   "cell_type": "code",
   "execution_count": 220,
   "outputs": [],
   "source": [
    "from sklearn.pipeline import Pipeline\n",
    "\n",
    "pipelines = Pipeline([\n",
    "    (\"preprocessing\", preprocessing),\n",
    "    (\"drop_columns\", DropColumns()),\n",
    "])"
   ],
   "metadata": {
    "collapsed": false
   }
  },
  {
   "cell_type": "code",
   "execution_count": 221,
   "outputs": [],
   "source": [
    "tr_df = pipelines.fit_transform(X_train, y_train)"
   ],
   "metadata": {
    "collapsed": false
   }
  },
  {
   "cell_type": "code",
   "execution_count": 222,
   "outputs": [
    {
     "data": {
      "text/plain": "     age__Age  cabin__initial_cabine_A  cabin__initial_cabine_B  \\\n0   -0.552360                      0.0                      0.0   \n1    0.659475                      0.0                      0.0   \n2   -0.249401                      0.0                      0.0   \n3    0.432256                      0.0                      0.0   \n4    0.432256                      0.0                      0.0   \n..        ...                      ...                      ...   \n886 -0.173662                      0.0                      0.0   \n887 -0.779579                      0.0                      1.0   \n888 -0.314491                      0.0                      0.0   \n889 -0.249401                      0.0                      0.0   \n890  0.205037                      0.0                      0.0   \n\n     cabin__initial_cabine_C  cabin__initial_cabine_D  \\\n0                        0.0                      0.0   \n1                        1.0                      0.0   \n2                        0.0                      0.0   \n3                        1.0                      0.0   \n4                        0.0                      0.0   \n..                       ...                      ...   \n886                      0.0                      0.0   \n887                      0.0                      0.0   \n888                      0.0                      0.0   \n889                      1.0                      0.0   \n890                      0.0                      0.0   \n\n     cabin__initial_cabine_E  cabin__initial_cabine_F  \\\n0                        0.0                      0.0   \n1                        0.0                      0.0   \n2                        0.0                      0.0   \n3                        0.0                      0.0   \n4                        0.0                      0.0   \n..                       ...                      ...   \n886                      0.0                      0.0   \n887                      0.0                      0.0   \n888                      0.0                      0.0   \n889                      0.0                      0.0   \n890                      0.0                      0.0   \n\n     cabin__initial_cabine_G  cabin__initial_cabine_T  \\\n0                        0.0                      0.0   \n1                        0.0                      0.0   \n2                        0.0                      0.0   \n3                        0.0                      0.0   \n4                        0.0                      0.0   \n..                       ...                      ...   \n886                      0.0                      0.0   \n887                      0.0                      0.0   \n888                      0.0                      0.0   \n889                      0.0                      0.0   \n890                      0.0                      0.0   \n\n     cabin__initial_cabine_Z  num__Pclass  num__SibSp  num__Parch  num__Fare  \\\n0                        1.0     0.827377    0.432793   -0.473674  -0.502445   \n1                        0.0    -1.566107    0.432793   -0.473674   0.786845   \n2                        1.0     0.827377   -0.474545   -0.473674  -0.488854   \n3                        0.0    -1.566107    0.432793   -0.473674   0.420730   \n4                        1.0     0.827377   -0.474545   -0.473674  -0.486337   \n..                       ...          ...         ...         ...        ...   \n886                      1.0    -0.369365   -0.474545   -0.473674  -0.386671   \n887                      0.0    -1.566107   -0.474545   -0.473674  -0.044381   \n888                      1.0     0.827377    0.432793    2.008933  -0.176263   \n889                      0.0    -1.566107   -0.474545   -0.473674  -0.044381   \n890                      1.0     0.827377   -0.474545   -0.473674  -0.492378   \n\n     cat__Sex_0.0  cat__Sex_1.0  cat__Embarked_0.0  cat__Embarked_1.0  \\\n0             0.0           1.0                0.0                0.0   \n1             1.0           0.0                1.0                0.0   \n2             1.0           0.0                0.0                0.0   \n3             1.0           0.0                0.0                0.0   \n4             0.0           1.0                0.0                0.0   \n..            ...           ...                ...                ...   \n886           0.0           1.0                0.0                0.0   \n887           1.0           0.0                0.0                0.0   \n888           1.0           0.0                0.0                0.0   \n889           0.0           1.0                1.0                0.0   \n890           0.0           1.0                0.0                1.0   \n\n     cat__Embarked_2.0  \n0                  1.0  \n1                  0.0  \n2                  1.0  \n3                  1.0  \n4                  1.0  \n..                 ...  \n886                1.0  \n887                1.0  \n888                1.0  \n889                0.0  \n890                0.0  \n\n[891 rows x 19 columns]",
      "text/html": "<div>\n<style scoped>\n    .dataframe tbody tr th:only-of-type {\n        vertical-align: middle;\n    }\n\n    .dataframe tbody tr th {\n        vertical-align: top;\n    }\n\n    .dataframe thead th {\n        text-align: right;\n    }\n</style>\n<table border=\"1\" class=\"dataframe\">\n  <thead>\n    <tr style=\"text-align: right;\">\n      <th></th>\n      <th>age__Age</th>\n      <th>cabin__initial_cabine_A</th>\n      <th>cabin__initial_cabine_B</th>\n      <th>cabin__initial_cabine_C</th>\n      <th>cabin__initial_cabine_D</th>\n      <th>cabin__initial_cabine_E</th>\n      <th>cabin__initial_cabine_F</th>\n      <th>cabin__initial_cabine_G</th>\n      <th>cabin__initial_cabine_T</th>\n      <th>cabin__initial_cabine_Z</th>\n      <th>num__Pclass</th>\n      <th>num__SibSp</th>\n      <th>num__Parch</th>\n      <th>num__Fare</th>\n      <th>cat__Sex_0.0</th>\n      <th>cat__Sex_1.0</th>\n      <th>cat__Embarked_0.0</th>\n      <th>cat__Embarked_1.0</th>\n      <th>cat__Embarked_2.0</th>\n    </tr>\n  </thead>\n  <tbody>\n    <tr>\n      <th>0</th>\n      <td>-0.552360</td>\n      <td>0.0</td>\n      <td>0.0</td>\n      <td>0.0</td>\n      <td>0.0</td>\n      <td>0.0</td>\n      <td>0.0</td>\n      <td>0.0</td>\n      <td>0.0</td>\n      <td>1.0</td>\n      <td>0.827377</td>\n      <td>0.432793</td>\n      <td>-0.473674</td>\n      <td>-0.502445</td>\n      <td>0.0</td>\n      <td>1.0</td>\n      <td>0.0</td>\n      <td>0.0</td>\n      <td>1.0</td>\n    </tr>\n    <tr>\n      <th>1</th>\n      <td>0.659475</td>\n      <td>0.0</td>\n      <td>0.0</td>\n      <td>1.0</td>\n      <td>0.0</td>\n      <td>0.0</td>\n      <td>0.0</td>\n      <td>0.0</td>\n      <td>0.0</td>\n      <td>0.0</td>\n      <td>-1.566107</td>\n      <td>0.432793</td>\n      <td>-0.473674</td>\n      <td>0.786845</td>\n      <td>1.0</td>\n      <td>0.0</td>\n      <td>1.0</td>\n      <td>0.0</td>\n      <td>0.0</td>\n    </tr>\n    <tr>\n      <th>2</th>\n      <td>-0.249401</td>\n      <td>0.0</td>\n      <td>0.0</td>\n      <td>0.0</td>\n      <td>0.0</td>\n      <td>0.0</td>\n      <td>0.0</td>\n      <td>0.0</td>\n      <td>0.0</td>\n      <td>1.0</td>\n      <td>0.827377</td>\n      <td>-0.474545</td>\n      <td>-0.473674</td>\n      <td>-0.488854</td>\n      <td>1.0</td>\n      <td>0.0</td>\n      <td>0.0</td>\n      <td>0.0</td>\n      <td>1.0</td>\n    </tr>\n    <tr>\n      <th>3</th>\n      <td>0.432256</td>\n      <td>0.0</td>\n      <td>0.0</td>\n      <td>1.0</td>\n      <td>0.0</td>\n      <td>0.0</td>\n      <td>0.0</td>\n      <td>0.0</td>\n      <td>0.0</td>\n      <td>0.0</td>\n      <td>-1.566107</td>\n      <td>0.432793</td>\n      <td>-0.473674</td>\n      <td>0.420730</td>\n      <td>1.0</td>\n      <td>0.0</td>\n      <td>0.0</td>\n      <td>0.0</td>\n      <td>1.0</td>\n    </tr>\n    <tr>\n      <th>4</th>\n      <td>0.432256</td>\n      <td>0.0</td>\n      <td>0.0</td>\n      <td>0.0</td>\n      <td>0.0</td>\n      <td>0.0</td>\n      <td>0.0</td>\n      <td>0.0</td>\n      <td>0.0</td>\n      <td>1.0</td>\n      <td>0.827377</td>\n      <td>-0.474545</td>\n      <td>-0.473674</td>\n      <td>-0.486337</td>\n      <td>0.0</td>\n      <td>1.0</td>\n      <td>0.0</td>\n      <td>0.0</td>\n      <td>1.0</td>\n    </tr>\n    <tr>\n      <th>...</th>\n      <td>...</td>\n      <td>...</td>\n      <td>...</td>\n      <td>...</td>\n      <td>...</td>\n      <td>...</td>\n      <td>...</td>\n      <td>...</td>\n      <td>...</td>\n      <td>...</td>\n      <td>...</td>\n      <td>...</td>\n      <td>...</td>\n      <td>...</td>\n      <td>...</td>\n      <td>...</td>\n      <td>...</td>\n      <td>...</td>\n      <td>...</td>\n    </tr>\n    <tr>\n      <th>886</th>\n      <td>-0.173662</td>\n      <td>0.0</td>\n      <td>0.0</td>\n      <td>0.0</td>\n      <td>0.0</td>\n      <td>0.0</td>\n      <td>0.0</td>\n      <td>0.0</td>\n      <td>0.0</td>\n      <td>1.0</td>\n      <td>-0.369365</td>\n      <td>-0.474545</td>\n      <td>-0.473674</td>\n      <td>-0.386671</td>\n      <td>0.0</td>\n      <td>1.0</td>\n      <td>0.0</td>\n      <td>0.0</td>\n      <td>1.0</td>\n    </tr>\n    <tr>\n      <th>887</th>\n      <td>-0.779579</td>\n      <td>0.0</td>\n      <td>1.0</td>\n      <td>0.0</td>\n      <td>0.0</td>\n      <td>0.0</td>\n      <td>0.0</td>\n      <td>0.0</td>\n      <td>0.0</td>\n      <td>0.0</td>\n      <td>-1.566107</td>\n      <td>-0.474545</td>\n      <td>-0.473674</td>\n      <td>-0.044381</td>\n      <td>1.0</td>\n      <td>0.0</td>\n      <td>0.0</td>\n      <td>0.0</td>\n      <td>1.0</td>\n    </tr>\n    <tr>\n      <th>888</th>\n      <td>-0.314491</td>\n      <td>0.0</td>\n      <td>0.0</td>\n      <td>0.0</td>\n      <td>0.0</td>\n      <td>0.0</td>\n      <td>0.0</td>\n      <td>0.0</td>\n      <td>0.0</td>\n      <td>1.0</td>\n      <td>0.827377</td>\n      <td>0.432793</td>\n      <td>2.008933</td>\n      <td>-0.176263</td>\n      <td>1.0</td>\n      <td>0.0</td>\n      <td>0.0</td>\n      <td>0.0</td>\n      <td>1.0</td>\n    </tr>\n    <tr>\n      <th>889</th>\n      <td>-0.249401</td>\n      <td>0.0</td>\n      <td>0.0</td>\n      <td>1.0</td>\n      <td>0.0</td>\n      <td>0.0</td>\n      <td>0.0</td>\n      <td>0.0</td>\n      <td>0.0</td>\n      <td>0.0</td>\n      <td>-1.566107</td>\n      <td>-0.474545</td>\n      <td>-0.473674</td>\n      <td>-0.044381</td>\n      <td>0.0</td>\n      <td>1.0</td>\n      <td>1.0</td>\n      <td>0.0</td>\n      <td>0.0</td>\n    </tr>\n    <tr>\n      <th>890</th>\n      <td>0.205037</td>\n      <td>0.0</td>\n      <td>0.0</td>\n      <td>0.0</td>\n      <td>0.0</td>\n      <td>0.0</td>\n      <td>0.0</td>\n      <td>0.0</td>\n      <td>0.0</td>\n      <td>1.0</td>\n      <td>0.827377</td>\n      <td>-0.474545</td>\n      <td>-0.473674</td>\n      <td>-0.492378</td>\n      <td>0.0</td>\n      <td>1.0</td>\n      <td>0.0</td>\n      <td>1.0</td>\n      <td>0.0</td>\n    </tr>\n  </tbody>\n</table>\n<p>891 rows × 19 columns</p>\n</div>"
     },
     "execution_count": 222,
     "metadata": {},
     "output_type": "execute_result"
    }
   ],
   "source": [
    "tr_df"
   ],
   "metadata": {
    "collapsed": false
   }
  },
  {
   "cell_type": "code",
   "execution_count": 206,
   "outputs": [],
   "source": [
    "from sklearn.ensemble import RandomForestClassifier\n",
    "from sklearn.model_selection import cross_val_score\n",
    "\n",
    "clf = RandomForestClassifier(random_state=42)\n",
    "clf_score = cross_val_score(clf, tr_df, y_train, cv=10, scoring=\"accuracy\")"
   ],
   "metadata": {
    "collapsed": false
   }
  },
  {
   "cell_type": "code",
   "execution_count": 207,
   "outputs": [
    {
     "data": {
      "text/plain": "0.8126342072409487"
     },
     "execution_count": 207,
     "metadata": {},
     "output_type": "execute_result"
    }
   ],
   "source": [
    "np.mean(clf_score)"
   ],
   "metadata": {
    "collapsed": false
   }
  },
  {
   "cell_type": "code",
   "execution_count": 208,
   "outputs": [
    {
     "data": {
      "text/plain": "0.8204369538077405"
     },
     "execution_count": 208,
     "metadata": {},
     "output_type": "execute_result"
    }
   ],
   "source": [
    "from sklearn.svm import SVC\n",
    "\n",
    "svm_clf = SVC(gamma=\"auto\")\n",
    "svm_scores = cross_val_score(svm_clf, tr_df, y_train, cv=10)\n",
    "svm_scores.mean()"
   ],
   "metadata": {
    "collapsed": false
   }
  },
  {
   "cell_type": "code",
   "execution_count": 209,
   "outputs": [
    {
     "data": {
      "text/plain": "<Figure size 800x400 with 1 Axes>",
      "image/png": "[encoded data removed]"
     },
     "metadata": {},
     "output_type": "display_data"
    }
   ],
   "source": [
    "plt.figure(figsize=(8, 4))\n",
    "plt.plot([1]*10, svm_scores, \".\")\n",
    "plt.plot([2]*10, clf_score, \".\")\n",
    "plt.boxplot([svm_scores, clf_score], labels=(\"SVM\", \"Random Forest\"))\n",
    "plt.ylabel(\"Accuracy\")\n",
    "plt.show()"
   ],
   "metadata": {
    "collapsed": false
   }
  },
  {
   "cell_type": "code",
   "execution_count": null,
   "outputs": [],
   "source": [
    "# param_grid = {'bootstrap': [True, False],\n",
    "#                'max_depth': [10, 20, 30, 40, 50, 60, 70, 80, 90, 100, None],\n",
    "#                'min_samples_leaf': [1, 2, 4],\n",
    "#                'min_samples_split': [2, 5, 10],\n",
    "#                'n_estimators': [200, 400, 600, 800, 1000, 1200, 1400, 1600, 1800, 2000]}\n",
    "#\n",
    "# grid_search = GridSearchCV(RandomForestClassifier(random_state=42, max_features=\"sqrt\"), param_grid=param_grid, cv=10, scoring=\"accuracy\", verbose=2, n_jobs=N_JOB)\n",
    "# grid_res = grid_search.fit(tr_df, y_train)"
   ],
   "metadata": {
    "collapsed": false
   }
  },
  {
   "cell_type": "code",
   "execution_count": 213,
   "outputs": [
    {
     "data": {
      "text/plain": "0.8350312109862672"
     },
     "execution_count": 213,
     "metadata": {},
     "output_type": "execute_result"
    }
   ],
   "source": [
    "# grid_res.best_score_"
   ],
   "metadata": {
    "collapsed": false
   }
  },
  {
   "cell_type": "code",
   "execution_count": 214,
   "outputs": [
    {
     "data": {
      "text/plain": "{'bootstrap': False,\n 'max_depth': 10,\n 'min_samples_leaf': 1,\n 'min_samples_split': 10,\n 'n_estimators': 200}"
     },
     "execution_count": 214,
     "metadata": {},
     "output_type": "execute_result"
    }
   ],
   "source": [
    "# grid_res.best_params_"
   ],
   "metadata": {
    "collapsed": false
   }
  },
  {
   "cell_type": "code",
   "execution_count": 215,
   "outputs": [],
   "source": [
    "best_params = {'bootstrap': False,\n",
    "               'max_depth': 10,\n",
    "               'min_samples_leaf': 1,\n",
    "               'min_samples_split': 10,\n",
    "               'n_estimators': 200}"
   ],
   "metadata": {
    "collapsed": false
   }
  },
  {
   "cell_type": "code",
   "execution_count": 216,
   "outputs": [
    {
     "data": {
      "text/plain": "RandomForestClassifier(bootstrap=False, max_depth=10, min_samples_split=10,\n                       n_estimators=200, random_state=42)",
      "text/html": "<style>#sk-container-id-1 {color: black;background-color: white;}#sk-container-id-1 pre{padding: 0;}#sk-container-id-1 div.sk-toggleable {background-color: white;}#sk-container-id-1 label.sk-toggleable__label {cursor: pointer;display: block;width: 100%;margin-bottom: 0;padding: 0.3em;box-sizing: border-box;text-align: center;}#sk-container-id-1 label.sk-toggleable__label-arrow:before {content: \"▸\";float: left;margin-right: 0.25em;color: #696969;}#sk-container-id-1 label.sk-toggleable__label-arrow:hover:before {color: black;}#sk-container-id-1 div.sk-estimator:hover label.sk-toggleable__label-arrow:before {color: black;}#sk-container-id-1 div.sk-toggleable__content {max-height: 0;max-width: 0;overflow: hidden;text-align: left;background-color: #f0f8ff;}#sk-container-id-1 div.sk-toggleable__content pre {margin: 0.2em;color: black;border-radius: 0.25em;background-color: #f0f8ff;}#sk-container-id-1 input.sk-toggleable__control:checked~div.sk-toggleable__content {max-height: 200px;max-width: 100%;overflow: auto;}#sk-container-id-1 input.sk-toggleable__control:checked~label.sk-toggleable__label-arrow:before {content: \"▾\";}#sk-container-id-1 div.sk-estimator input.sk-toggleable__control:checked~label.sk-toggleable__label {background-color: #d4ebff;}#sk-container-id-1 div.sk-label input.sk-toggleable__control:checked~label.sk-toggleable__label {background-color: #d4ebff;}#sk-container-id-1 input.sk-hidden--visually {border: 0;clip: rect(1px 1px 1px 1px);clip: rect(1px, 1px, 1px, 1px);height: 1px;margin: -1px;overflow: hidden;padding: 0;position: absolute;width: 1px;}#sk-container-id-1 div.sk-estimator {font-family: monospace;background-color: #f0f8ff;border: 1px dotted black;border-radius: 0.25em;box-sizing: border-box;margin-bottom: 0.5em;}#sk-container-id-1 div.sk-estimator:hover {background-color: #d4ebff;}#sk-container-id-1 div.sk-parallel-item::after {content: \"\";width: 100%;border-bottom: 1px solid gray;flex-grow: 1;}#sk-container-id-1 div.sk-label:hover label.sk-toggleable__label {background-color: #d4ebff;}#sk-container-id-1 div.sk-serial::before {content: \"\";position: absolute;border-left: 1px solid gray;box-sizing: border-box;top: 0;bottom: 0;left: 50%;z-index: 0;}#sk-container-id-1 div.sk-serial {display: flex;flex-direction: column;align-items: center;background-color: white;padding-right: 0.2em;padding-left: 0.2em;position: relative;}#sk-container-id-1 div.sk-item {position: relative;z-index: 1;}#sk-container-id-1 div.sk-parallel {display: flex;align-items: stretch;justify-content: center;background-color: white;position: relative;}#sk-container-id-1 div.sk-item::before, #sk-container-id-1 div.sk-parallel-item::before {content: \"\";position: absolute;border-left: 1px solid gray;box-sizing: border-box;top: 0;bottom: 0;left: 50%;z-index: -1;}#sk-container-id-1 div.sk-parallel-item {display: flex;flex-direction: column;z-index: 1;position: relative;background-color: white;}#sk-container-id-1 div.sk-parallel-item:first-child::after {align-self: flex-end;width: 50%;}#sk-container-id-1 div.sk-parallel-item:last-child::after {align-self: flex-start;width: 50%;}#sk-container-id-1 div.sk-parallel-item:only-child::after {width: 0;}#sk-container-id-1 div.sk-dashed-wrapped {border: 1px dashed gray;margin: 0 0.4em 0.5em 0.4em;box-sizing: border-box;padding-bottom: 0.4em;background-color: white;}#sk-container-id-1 div.sk-label label {font-family: monospace;font-weight: bold;display: inline-block;line-height: 1.2em;}#sk-container-id-1 div.sk-label-container {text-align: center;}#sk-container-id-1 div.sk-container {/* jupyter's `normalize.less` sets `[hidden] { display: none; }` but bootstrap.min.css set `[hidden] { display: none !important; }` so we also need the `!important` here to be able to override the default hidden behavior on the sphinx rendered scikit-learn.org. See: https://github.com/scikit-learn/scikit-learn/issues/21755 */display: inline-block !important;position: relative;}#sk-container-id-1 div.sk-text-repr-fallback {display: none;}</style><div id=\"sk-container-id-1\" class=\"sk-top-container\"><div class=\"sk-text-repr-fallback\"><pre>RandomForestClassifier(bootstrap=False, max_depth=10, min_samples_split=10,\n                       n_estimators=200, random_state=42)</pre><b>In a Jupyter environment, please rerun this cell to show the HTML representation or trust the notebook. <br />On GitHub, the HTML representation is unable to render, please try loading this page with nbviewer.org.</b></div><div class=\"sk-container\" hidden><div class=\"sk-item\"><div class=\"sk-estimator sk-toggleable\"><input class=\"sk-toggleable__control sk-hidden--visually\" id=\"sk-estimator-id-1\" type=\"checkbox\" checked><label for=\"sk-estimator-id-1\" class=\"sk-toggleable__label sk-toggleable__label-arrow\">RandomForestClassifier</label><div class=\"sk-toggleable__content\"><pre>RandomForestClassifier(bootstrap=False, max_depth=10, min_samples_split=10,\n                       n_estimators=200, random_state=42)</pre></div></div></div></div></div>"
     },
     "execution_count": 216,
     "metadata": {},
     "output_type": "execute_result"
    }
   ],
   "source": [
    "clf = RandomForestClassifier(random_state=42, max_features=\"sqrt\", **best_params)\n",
    "clf.fit(tr_df, y_train)"
   ],
   "metadata": {
    "collapsed": false
   }
  },
  {
   "cell_type": "code",
   "execution_count": 223,
   "outputs": [],
   "source": [
    "test_df = pd.read_csv(TITANIC_DATASET_TEST_PATH)\n",
    "test_tr_df = pipelines.transform(test_df)"
   ],
   "metadata": {
    "collapsed": false
   }
  },
  {
   "cell_type": "code",
   "execution_count": 224,
   "outputs": [],
   "source": [
    "pred = clf.predict(test_tr_df)"
   ],
   "metadata": {
    "collapsed": false
   }
  },
  {
   "cell_type": "code",
   "execution_count": 225,
   "outputs": [
    {
     "data": {
      "text/plain": "array([0, 0, 0, 0, 1, 0, 0, 0, 1, 0, 0, 0, 1, 0, 1, 1, 0, 0, 0, 1, 0, 1,\n       1, 0, 1, 0, 1, 0, 0, 0, 0, 0, 0, 0, 0, 0, 0, 0, 0, 1, 0, 0, 0, 1,\n       1, 0, 0, 0, 1, 1, 0, 0, 1, 1, 0, 0, 0, 0, 0, 1, 0, 0, 0, 1, 1, 1,\n       1, 0, 0, 1, 1, 0, 0, 1, 1, 0, 0, 1, 0, 1, 1, 0, 0, 0, 0, 0, 1, 0,\n       1, 1, 0, 0, 1, 0, 0, 0, 1, 0, 0, 0, 1, 0, 0, 0, 1, 0, 0, 0, 0, 0,\n       0, 1, 1, 0, 1, 0, 0, 1, 0, 1, 1, 0, 1, 0, 0, 1, 0, 1, 0, 0, 0, 0,\n       0, 0, 0, 0, 0, 0, 0, 0, 0, 1, 0, 0, 0, 0, 1, 0, 0, 0, 1, 0, 0, 1,\n       0, 0, 1, 0, 0, 1, 1, 1, 1, 0, 0, 0, 0, 0, 1, 0, 0, 0, 0, 0, 0, 1,\n       1, 0, 1, 1, 0, 1, 1, 0, 1, 0, 1, 0, 0, 0, 0, 0, 0, 0, 1, 0, 1, 0,\n       0, 0, 1, 1, 0, 1, 0, 0, 0, 0, 1, 0, 0, 0, 0, 1, 1, 0, 1, 0, 1, 0,\n       1, 0, 1, 0, 1, 1, 0, 1, 0, 0, 0, 1, 0, 0, 0, 0, 1, 0, 1, 1, 1, 1,\n       0, 0, 0, 0, 1, 0, 1, 0, 1, 0, 0, 0, 0, 0, 0, 0, 1, 0, 0, 0, 1, 1,\n       0, 0, 0, 0, 0, 0, 0, 0, 1, 1, 0, 1, 0, 0, 0, 0, 0, 1, 1, 0, 1, 0,\n       0, 0, 0, 0, 0, 0, 0, 0, 0, 0, 1, 0, 0, 0, 0, 0, 0, 0, 1, 1, 0, 1,\n       0, 0, 0, 0, 0, 0, 1, 1, 0, 0, 0, 0, 0, 0, 0, 1, 1, 0, 1, 0, 0, 0,\n       1, 0, 0, 1, 0, 0, 0, 0, 0, 0, 0, 0, 0, 1, 0, 1, 0, 1, 0, 1, 1, 0,\n       0, 0, 1, 0, 1, 0, 0, 1, 0, 1, 1, 0, 1, 0, 0, 0, 1, 0, 0, 1, 0, 0,\n       1, 1, 0, 0, 0, 0, 0, 0, 1, 1, 0, 1, 0, 0, 0, 0, 0, 1, 0, 0, 0, 1,\n       0, 1, 0, 0, 1, 0, 1, 0, 1, 0, 0, 0, 1, 1, 1, 1, 0, 0, 1, 0, 0, 0])"
     },
     "execution_count": 225,
     "metadata": {},
     "output_type": "execute_result"
    }
   ],
   "source": [
    "pred"
   ],
   "metadata": {
    "collapsed": false
   }
  },
  {
   "cell_type": "code",
   "execution_count": 234,
   "outputs": [],
   "source": [
    "sub = test_df[[\"PassengerId\"]].copy()\n",
    "sub['Survived'] = pred\n",
    "sub.to_csv(SUBMISSION_PATH, index = False)"
   ],
   "metadata": {
    "collapsed": false
   }
  },
  {
   "cell_type": "code",
   "execution_count": null,
   "outputs": [],
   "source": [],
   "metadata": {
    "collapsed": false
   }
  }
 ],
 "metadata": {
  "kernelspec": {
   "display_name": "Python 3",
   "language": "python",
   "name": "python3"
  },
  "language_info": {
   "codemirror_mode": {
    "name": "ipython",
    "version": 2
   },
   "file_extension": ".py",
   "mimetype": "text/x-python",
   "name": "python",
   "nbconvert_exporter": "python",
   "pygments_lexer": "ipython2",
   "version": "2.7.6"
  }
 },
 "nbformat": 4,
 "nbformat_minor": 0
}
